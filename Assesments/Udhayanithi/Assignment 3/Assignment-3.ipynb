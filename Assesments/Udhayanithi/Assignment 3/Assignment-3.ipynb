{
  "nbformat": 4,
  "nbformat_minor": 0,
  "metadata": {
    "colab": {
      "provenance": []
    },
    "kernelspec": {
      "name": "python3",
      "display_name": "Python 3"
    },
    "language_info": {
      "name": "python"
    }
  },
  "cells": [
    {
      "cell_type": "code",
      "execution_count": 1,
      "metadata": {
        "id": "Vr5E4J4iqX27"
      },
      "outputs": [],
      "source": [
        "from tensorflow.keras.preprocessing.image import ImageDataGenerator"
      ]
    },
    {
      "cell_type": "code",
      "source": [
        "train_datagen = ImageDataGenerator(rescale=1./255,\n",
        "                                   zoom_range=0.2,\n",
        "                                   horizontal_flip=True)"
      ],
      "metadata": {
        "id": "lQH2SdbDqbBg"
      },
      "execution_count": 2,
      "outputs": []
    },
    {
      "cell_type": "code",
      "source": [
        "test_datagen = ImageDataGenerator(rescale= 1./255)"
      ],
      "metadata": {
        "id": "hihko77tqeGA"
      },
      "execution_count": 3,
      "outputs": []
    },
    {
      "cell_type": "code",
      "source": [
        "xtrain = train_datagen.flow_from_directory('/content//drive/MyDrive/flowers',\n",
        "                                           target_size=(64,64),\n",
        "                                           class_mode='categorical',\n",
        "                                           batch_size=100)"
      ],
      "metadata": {
        "colab": {
          "base_uri": "https://localhost:8080/"
        },
        "id": "dKuOmurFqgTQ",
        "outputId": "ed457dee-8981-405e-9530-5b3e54d3167a"
      },
      "execution_count": 5,
      "outputs": [
        {
          "output_type": "stream",
          "name": "stdout",
          "text": [
            "Found 2168 images belonging to 1 classes.\n"
          ]
        }
      ]
    },
    {
      "cell_type": "code",
      "source": [
        "from tensorflow.keras.models import Sequential\n",
        "from tensorflow.keras.layers import Convolution2D,MaxPooling2D,Flatten,Dense"
      ],
      "metadata": {
        "id": "68rBkbw4qp8H"
      },
      "execution_count": 6,
      "outputs": []
    },
    {
      "cell_type": "code",
      "source": [
        "model = Sequential()\n",
        "model.add(Convolution2D(32,(3,3),activation='relu',input_shape=(64,64,3))) # Convolution layer\n",
        "model.add(MaxPooling2D(pool_size=(2,2))) # Max pooling layer\n",
        "model.add(Flatten()) # Flatten layer\n",
        "# Fully connected layers (ANN)\n",
        "model.add(Dense(300,activation='relu')) # Hidden layer 1\n",
        "model.add(Dense(150,activation='relu')) # Hidden layer 2\n",
        "model.add(Dense(4,activation='softmax')) # Output layer"
      ],
      "metadata": {
        "id": "oZWOBFMiqsgn"
      },
      "execution_count": 7,
      "outputs": []
    },
    {
      "cell_type": "code",
      "source": [
        "model.compile(optimizer='adam',loss='categorical_crossentropy',metrics=['accuracy'])"
      ],
      "metadata": {
        "id": "p4I6xkRrqvsI"
      },
      "execution_count": 8,
      "outputs": []
    },
    {
      "cell_type": "code",
      "source": [
        "model.save('Flower.h5')"
      ],
      "metadata": {
        "id": "paoq_SIJqyFo"
      },
      "execution_count": 9,
      "outputs": []
    },
    {
      "cell_type": "code",
      "source": [
        "import numpy as np\n",
        "from tensorflow.keras.preprocessing import image"
      ],
      "metadata": {
        "id": "9KnApHojq1qQ"
      },
      "execution_count": 10,
      "outputs": []
    },
    {
      "cell_type": "code",
      "source": [
        "img = image.load_img('/content/drive/MyDrive/flowers/flowers/dandelion/141935731_d26d600f4f_m.jpg',target_size=(64,64))"
      ],
      "metadata": {
        "id": "J7xQje83q1vc"
      },
      "execution_count": 32,
      "outputs": []
    },
    {
      "cell_type": "code",
      "source": [
        "img"
      ],
      "metadata": {
        "colab": {
          "base_uri": "https://localhost:8080/",
          "height": 81
        },
        "id": "rXoQSQTeq5SA",
        "outputId": "f71aa0dc-d0ab-46d4-d3d0-27708474f881"
      },
      "execution_count": 33,
      "outputs": [
        {
          "output_type": "execute_result",
          "data": {
            "text/plain": [
              "<PIL.Image.Image image mode=RGB size=64x64 at 0x7FE257C227D0>"
            ],
            "image/png": "[encoded data removed]"
          },
          "metadata": {},
          "execution_count": 33
        }
      ]
    },
    {
      "cell_type": "code",
      "source": [
        "x = image.img_to_array(img)\n",
        "x"
      ],
      "metadata": {
        "colab": {
          "base_uri": "https://localhost:8080/"
        },
        "id": "Ll1Y4Liwq7PS",
        "outputId": "a1a8826b-5dd3-4d00-ce4f-e45babcfbbf5"
      },
      "execution_count": 34,
      "outputs": [
        {
          "output_type": "execute_result",
          "data": {
            "text/plain": [
              "array([[[104.,  91.,  59.],\n",
              "        [125., 116.,  61.],\n",
              "        [ 86.,  95.,  38.],\n",
              "        ...,\n",
              "        [ 74.,  95.,  39.],\n",
              "        [118.,  87.,  43.],\n",
              "        [109.,  83.,  34.]],\n",
              "\n",
              "       [[140., 139.,  83.],\n",
              "        [123., 114.,  59.],\n",
              "        [ 77.,  91.,  42.],\n",
              "        ...,\n",
              "        [ 51.,  80.,  22.],\n",
              "        [ 46.,  75.,  21.],\n",
              "        [ 30.,  65.,   9.]],\n",
              "\n",
              "       [[114., 141.,  74.],\n",
              "        [128., 137.,  74.],\n",
              "        [113., 116.,  61.],\n",
              "        ...,\n",
              "        [ 45.,  76.,  17.],\n",
              "        [ 38.,  67.,  19.],\n",
              "        [ 31.,  61.,   9.]],\n",
              "\n",
              "       ...,\n",
              "\n",
              "       [[ 53.,  92.,  39.],\n",
              "        [ 49.,  84.,  26.],\n",
              "        [ 61.,  94.,  37.],\n",
              "        ...,\n",
              "        [ 18.,  20.,   7.],\n",
              "        [ 21.,  31.,   7.],\n",
              "        [ 27.,  41.,  15.]],\n",
              "\n",
              "       [[ 35.,  66.,  24.],\n",
              "        [ 32.,  69.,  15.],\n",
              "        [ 61.,  97.,  35.],\n",
              "        ...,\n",
              "        [ 23.,  21.,   6.],\n",
              "        [ 16.,  18.,   4.],\n",
              "        [ 19.,  28.,   7.]],\n",
              "\n",
              "       [[ 47.,  78.,  18.],\n",
              "        [ 30.,  64.,  14.],\n",
              "        [ 48.,  77.,  23.],\n",
              "        ...,\n",
              "        [ 42.,  36.,  14.],\n",
              "        [ 36.,  29.,  10.],\n",
              "        [ 13.,  15.,   2.]]], dtype=float32)"
            ]
          },
          "metadata": {},
          "execution_count": 34
        }
      ]
    },
    {
      "cell_type": "code",
      "source": [
        "x = np.expand_dims(x,axis=0)\n",
        "x"
      ],
      "metadata": {
        "colab": {
          "base_uri": "https://localhost:8080/"
        },
        "id": "n9DPg89mq-n5",
        "outputId": "3f89433a-2cee-45d0-abe1-75bdab56eb4b"
      },
      "execution_count": 35,
      "outputs": [
        {
          "output_type": "execute_result",
          "data": {
            "text/plain": [
              "array([[[[104.,  91.,  59.],\n",
              "         [125., 116.,  61.],\n",
              "         [ 86.,  95.,  38.],\n",
              "         ...,\n",
              "         [ 74.,  95.,  39.],\n",
              "         [118.,  87.,  43.],\n",
              "         [109.,  83.,  34.]],\n",
              "\n",
              "        [[140., 139.,  83.],\n",
              "         [123., 114.,  59.],\n",
              "         [ 77.,  91.,  42.],\n",
              "         ...,\n",
              "         [ 51.,  80.,  22.],\n",
              "         [ 46.,  75.,  21.],\n",
              "         [ 30.,  65.,   9.]],\n",
              "\n",
              "        [[114., 141.,  74.],\n",
              "         [128., 137.,  74.],\n",
              "         [113., 116.,  61.],\n",
              "         ...,\n",
              "         [ 45.,  76.,  17.],\n",
              "         [ 38.,  67.,  19.],\n",
              "         [ 31.,  61.,   9.]],\n",
              "\n",
              "        ...,\n",
              "\n",
              "        [[ 53.,  92.,  39.],\n",
              "         [ 49.,  84.,  26.],\n",
              "         [ 61.,  94.,  37.],\n",
              "         ...,\n",
              "         [ 18.,  20.,   7.],\n",
              "         [ 21.,  31.,   7.],\n",
              "         [ 27.,  41.,  15.]],\n",
              "\n",
              "        [[ 35.,  66.,  24.],\n",
              "         [ 32.,  69.,  15.],\n",
              "         [ 61.,  97.,  35.],\n",
              "         ...,\n",
              "         [ 23.,  21.,   6.],\n",
              "         [ 16.,  18.,   4.],\n",
              "         [ 19.,  28.,   7.]],\n",
              "\n",
              "        [[ 47.,  78.,  18.],\n",
              "         [ 30.,  64.,  14.],\n",
              "         [ 48.,  77.,  23.],\n",
              "         ...,\n",
              "         [ 42.,  36.,  14.],\n",
              "         [ 36.,  29.,  10.],\n",
              "         [ 13.,  15.,   2.]]]], dtype=float32)"
            ]
          },
          "metadata": {},
          "execution_count": 35
        }
      ]
    },
    {
      "cell_type": "code",
      "source": [
        "model.predict(x)"
      ],
      "metadata": {
        "colab": {
          "base_uri": "https://localhost:8080/"
        },
        "id": "l3CEvbUDrBSg",
        "outputId": "bc0d0854-931e-4ab8-9ebd-27852bfd8cc7"
      },
      "execution_count": 36,
      "outputs": [
        {
          "output_type": "execute_result",
          "data": {
            "text/plain": [
              "array([[1.0000000e+00, 1.2059610e-19, 1.6337560e-25, 1.9850155e-08]],\n",
              "      dtype=float32)"
            ]
          },
          "metadata": {},
          "execution_count": 36
        }
      ]
    },
    {
      "cell_type": "code",
      "source": [
        "op = ['daisy','dandelion','rose','sunflower','tulip']\n",
        "pred = np.argmax(model.predict(x))\n",
        "op[pred]"
      ],
      "metadata": {
        "colab": {
          "base_uri": "https://localhost:8080/",
          "height": 35
        },
        "id": "r2cyNxoIrEAA",
        "outputId": "1b2928a9-741b-49e5-e5b4-e413f34c5e48"
      },
      "execution_count": 37,
      "outputs": [
        {
          "output_type": "execute_result",
          "data": {
            "text/plain": [
              "'daisy'"
            ],
            "application/vnd.google.colaboratory.intrinsic+json": {
              "type": "string"
            }
          },
          "metadata": {},
          "execution_count": 37
        }
      ]
    },
    {
      "cell_type": "code",
      "source": [
        "img = image.load_img('/content/drive/MyDrive/flowers/flowers/dandelion/10683189_bd6e371b97.jpg',target_size=(64,64))\n",
        "x = image.img_to_array(img)\n",
        "x = np.expand_dims(x,axis=0)\n",
        "pred = np.argmax(model.predict(x))\n",
        "op[pred]"
      ],
      "metadata": {
        "colab": {
          "base_uri": "https://localhost:8080/",
          "height": 35
        },
        "id": "s76K-tOurF7a",
        "outputId": "10054339-7340-4b18-a0bc-e6d844b459ad"
      },
      "execution_count": 38,
      "outputs": [
        {
          "output_type": "execute_result",
          "data": {
            "text/plain": [
              "'daisy'"
            ],
            "application/vnd.google.colaboratory.intrinsic+json": {
              "type": "string"
            }
          },
          "metadata": {},
          "execution_count": 38
        }
      ]
    }
  ]
}