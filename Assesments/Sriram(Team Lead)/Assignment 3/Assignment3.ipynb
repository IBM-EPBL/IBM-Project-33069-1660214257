{
  "nbformat": 4,
  "nbformat_minor": 0,
  "metadata": {
    "colab": {
      "provenance": []
    },
    "kernelspec": {
      "name": "python3",
      "display_name": "Python 3"
    },
    "language_info": {
      "name": "python"
    }
  },
  "cells": [
    {
      "cell_type": "code",
      "execution_count": 2,
      "metadata": {
        "id": "zfCrgEldeYgH"
      },
      "outputs": [],
      "source": [
        "from tensorflow.keras.preprocessing.image import ImageDataGenerator"
      ]
    },
    {
      "cell_type": "code",
      "source": [
        "train_datagen = ImageDataGenerator(rescale=1./255,\n",
        "                                   zoom_range=0.2,\n",
        "                                   horizontal_flip=True)"
      ],
      "metadata": {
        "id": "xviRWxVheeSC"
      },
      "execution_count": 3,
      "outputs": []
    },
    {
      "cell_type": "code",
      "source": [
        "test_datagen = ImageDataGenerator(rescale= 1./255)"
      ],
      "metadata": {
        "id": "v2mAh_B3ehcx"
      },
      "execution_count": 4,
      "outputs": []
    },
    {
      "cell_type": "code",
      "source": [
        "xtrain = train_datagen.flow_from_directory('/content//drive/MyDrive/flowers',\n",
        "                                           target_size=(64,64),\n",
        "                                           class_mode='categorical',\n",
        "                                           batch_size=100)"
      ],
      "metadata": {
        "colab": {
          "base_uri": "https://localhost:8080/"
        },
        "id": "2ANUNsIBiYUJ",
        "outputId": "befda890-b73f-42af-fec6-4ca97061c39e"
      },
      "execution_count": 25,
      "outputs": [
        {
          "output_type": "stream",
          "name": "stdout",
          "text": [
            "Found 1701 images belonging to 1 classes.\n"
          ]
        }
      ]
    },
    {
      "cell_type": "code",
      "source": [
        "from tensorflow.keras.models import Sequential\n",
        "from tensorflow.keras.layers import Convolution2D,MaxPooling2D,Flatten,Dense"
      ],
      "metadata": {
        "id": "PnyXs88xmW5R"
      },
      "execution_count": 6,
      "outputs": []
    },
    {
      "cell_type": "code",
      "source": [
        "model = Sequential()\n",
        "model.add(Convolution2D(32,(3,3),activation='relu',input_shape=(64,64,3))) # Convolution layer\n",
        "model.add(MaxPooling2D(pool_size=(2,2))) # Max pooling layer\n",
        "model.add(Flatten()) # Flatten layer\n",
        "# Fully connected layers (ANN)\n",
        "model.add(Dense(300,activation='relu')) # Hidden layer 1\n",
        "model.add(Dense(150,activation='relu')) # Hidden layer 2\n",
        "model.add(Dense(4,activation='softmax')) # Output layer"
      ],
      "metadata": {
        "id": "TKYUH_3kmX4I"
      },
      "execution_count": 7,
      "outputs": []
    },
    {
      "cell_type": "code",
      "source": [
        "model.compile(optimizer='adam',loss='categorical_crossentropy',metrics=['accuracy'])"
      ],
      "metadata": {
        "id": "gSG_g18imbgQ"
      },
      "execution_count": 8,
      "outputs": []
    },
    {
      "cell_type": "code",
      "source": [
        "\n",
        "model.save('Flower.h5')"
      ],
      "metadata": {
        "id": "rpKRRc5qmdVQ"
      },
      "execution_count": 9,
      "outputs": []
    },
    {
      "cell_type": "code",
      "source": [
        "import numpy as np\n",
        "from tensorflow.keras.preprocessing import image"
      ],
      "metadata": {
        "id": "7QQSBNmCmgbZ"
      },
      "execution_count": 10,
      "outputs": []
    },
    {
      "cell_type": "code",
      "source": [
        "img = image.load_img('/content/drive/MyDrive/flowers/flowers/dandelion/10683189_bd6e371b97.jpg',target_size=(64,64))"
      ],
      "metadata": {
        "id": "180iI0IDmhU4"
      },
      "execution_count": 14,
      "outputs": []
    },
    {
      "cell_type": "code",
      "source": [
        "img"
      ],
      "metadata": {
        "colab": {
          "base_uri": "https://localhost:8080/",
          "height": 81
        },
        "id": "rHNGN-jjnO2B",
        "outputId": "6c07456b-04b2-4fc3-9cea-39f02e969fc0"
      },
      "execution_count": 15,
      "outputs": [
        {
          "output_type": "execute_result",
          "data": {
            "text/plain": [
              "<PIL.Image.Image image mode=RGB size=64x64 at 0x7FA0B607FD50>"
            ],
            "image/png": "[encoded data removed]"
          },
          "metadata": {},
          "execution_count": 15
        }
      ]
    },
    {
      "cell_type": "code",
      "source": [
        "x = image.img_to_array(img)\n",
        "x"
      ],
      "metadata": {
        "colab": {
          "base_uri": "https://localhost:8080/"
        },
        "id": "ZlZ5TL7Gmt6V",
        "outputId": "5f29fe4d-0c7a-4f0e-fa34-9b487969c244"
      },
      "execution_count": 16,
      "outputs": [
        {
          "output_type": "execute_result",
          "data": {
            "text/plain": [
              "array([[[ 58.,  96.,  11.],\n",
              "        [ 43.,  87.,   2.],\n",
              "        [ 54.,  82.,   8.],\n",
              "        ...,\n",
              "        [ 14.,  27.,   9.],\n",
              "        [ 19.,  37.,   0.],\n",
              "        [ 12.,  24.,   4.]],\n",
              "\n",
              "       [[ 63., 113.,   0.],\n",
              "        [ 70., 116.,   8.],\n",
              "        [ 72., 124.,  16.],\n",
              "        ...,\n",
              "        [ 26.,  35.,   6.],\n",
              "        [ 21.,  37.,   0.],\n",
              "        [ 53.,  79.,  31.]],\n",
              "\n",
              "       [[ 85., 133.,  15.],\n",
              "        [ 90., 134.,  23.],\n",
              "        [ 95., 134.,  25.],\n",
              "        ...,\n",
              "        [  7.,  19.,   5.],\n",
              "        [ 17.,  27.,  16.],\n",
              "        [ 14.,  35.,   2.]],\n",
              "\n",
              "       ...,\n",
              "\n",
              "       [[ 12.,  25.,   7.],\n",
              "        [ 12.,  25.,   8.],\n",
              "        [ 14.,  28.,   5.],\n",
              "        ...,\n",
              "        [  0.,   2.,   0.],\n",
              "        [  1.,   3.,   0.],\n",
              "        [ 25.,  33.,  22.]],\n",
              "\n",
              "       [[ 12.,  25.,   7.],\n",
              "        [ 13.,  27.,   4.],\n",
              "        [ 21.,  36.,   7.],\n",
              "        ...,\n",
              "        [  0.,   2.,   0.],\n",
              "        [  1.,   3.,   0.],\n",
              "        [  0.,   5.,   0.]],\n",
              "\n",
              "       [[ 13.,  26.,   9.],\n",
              "        [ 12.,  24.,   2.],\n",
              "        [  9.,  17.,   2.],\n",
              "        ...,\n",
              "        [  0.,   5.,   0.],\n",
              "        [  0.,   2.,   0.],\n",
              "        [  2.,   4.,   0.]]], dtype=float32)"
            ]
          },
          "metadata": {},
          "execution_count": 16
        }
      ]
    },
    {
      "cell_type": "code",
      "source": [
        "x = np.expand_dims(x,axis=0)\n",
        "x"
      ],
      "metadata": {
        "colab": {
          "base_uri": "https://localhost:8080/"
        },
        "id": "apRCH1wTnXLo",
        "outputId": "6dc24e37-1a73-4975-e4b9-800c47632153"
      },
      "execution_count": 17,
      "outputs": [
        {
          "output_type": "execute_result",
          "data": {
            "text/plain": [
              "array([[[[ 58.,  96.,  11.],\n",
              "         [ 43.,  87.,   2.],\n",
              "         [ 54.,  82.,   8.],\n",
              "         ...,\n",
              "         [ 14.,  27.,   9.],\n",
              "         [ 19.,  37.,   0.],\n",
              "         [ 12.,  24.,   4.]],\n",
              "\n",
              "        [[ 63., 113.,   0.],\n",
              "         [ 70., 116.,   8.],\n",
              "         [ 72., 124.,  16.],\n",
              "         ...,\n",
              "         [ 26.,  35.,   6.],\n",
              "         [ 21.,  37.,   0.],\n",
              "         [ 53.,  79.,  31.]],\n",
              "\n",
              "        [[ 85., 133.,  15.],\n",
              "         [ 90., 134.,  23.],\n",
              "         [ 95., 134.,  25.],\n",
              "         ...,\n",
              "         [  7.,  19.,   5.],\n",
              "         [ 17.,  27.,  16.],\n",
              "         [ 14.,  35.,   2.]],\n",
              "\n",
              "        ...,\n",
              "\n",
              "        [[ 12.,  25.,   7.],\n",
              "         [ 12.,  25.,   8.],\n",
              "         [ 14.,  28.,   5.],\n",
              "         ...,\n",
              "         [  0.,   2.,   0.],\n",
              "         [  1.,   3.,   0.],\n",
              "         [ 25.,  33.,  22.]],\n",
              "\n",
              "        [[ 12.,  25.,   7.],\n",
              "         [ 13.,  27.,   4.],\n",
              "         [ 21.,  36.,   7.],\n",
              "         ...,\n",
              "         [  0.,   2.,   0.],\n",
              "         [  1.,   3.,   0.],\n",
              "         [  0.,   5.,   0.]],\n",
              "\n",
              "        [[ 13.,  26.,   9.],\n",
              "         [ 12.,  24.,   2.],\n",
              "         [  9.,  17.,   2.],\n",
              "         ...,\n",
              "         [  0.,   5.,   0.],\n",
              "         [  0.,   2.,   0.],\n",
              "         [  2.,   4.,   0.]]]], dtype=float32)"
            ]
          },
          "metadata": {},
          "execution_count": 17
        }
      ]
    },
    {
      "cell_type": "code",
      "source": [
        "model.predict(x)"
      ],
      "metadata": {
        "colab": {
          "base_uri": "https://localhost:8080/"
        },
        "id": "4NE1Cy9xncvI",
        "outputId": "ff409d32-bdb5-4ceb-ab4e-8f9f0c71065b"
      },
      "execution_count": 18,
      "outputs": [
        {
          "output_type": "execute_result",
          "data": {
            "text/plain": [
              "array([[0.0000000e+00, 5.8820974e-19, 2.2801103e-20, 1.0000000e+00]],\n",
              "      dtype=float32)"
            ]
          },
          "metadata": {},
          "execution_count": 18
        }
      ]
    },
    {
      "cell_type": "code",
      "source": [
        "op = ['daisy','dandelion','rose','sunflower','tulip']\n",
        "pred = np.argmax(model.predict(x))\n",
        "op[pred]"
      ],
      "metadata": {
        "colab": {
          "base_uri": "https://localhost:8080/",
          "height": 35
        },
        "id": "yF-sO-MInhDI",
        "outputId": "743f92cd-d729-48d4-dbd4-0e021e92f57f"
      },
      "execution_count": 22,
      "outputs": [
        {
          "output_type": "execute_result",
          "data": {
            "text/plain": [
              "'sunflower'"
            ],
            "application/vnd.google.colaboratory.intrinsic+json": {
              "type": "string"
            }
          },
          "metadata": {},
          "execution_count": 22
        }
      ]
    },
    {
      "cell_type": "code",
      "source": [
        "img = image.load_img('/content/drive/MyDrive/flowers/flowers/daisy/5673551_01d1ea993e_n.jpg',target_size=(64,64))\n",
        "x = image.img_to_array(img)\n",
        "x = np.expand_dims(x,axis=0)\n",
        "pred = np.argmax(model.predict(x))\n",
        "op[pred]"
      ],
      "metadata": {
        "colab": {
          "base_uri": "https://localhost:8080/",
          "height": 35
        },
        "id": "pBABOhnnnlJQ",
        "outputId": "58b17eb9-5dd7-41ae-fb47-b04358548536"
      },
      "execution_count": 23,
      "outputs": [
        {
          "output_type": "execute_result",
          "data": {
            "text/plain": [
              "'sunflower'"
            ],
            "application/vnd.google.colaboratory.intrinsic+json": {
              "type": "string"
            }
          },
          "metadata": {},
          "execution_count": 23
        }
      ]
    }
  ]
}